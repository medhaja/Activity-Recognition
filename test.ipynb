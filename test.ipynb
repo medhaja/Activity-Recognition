{
 "cells": [
  {
   "cell_type": "code",
   "execution_count": 1,
   "metadata": {},
   "outputs": [],
   "source": [
    "import tensorflow as tf\n",
    "from tensorflow import keras\n",
    "\n",
    "import os\n",
    "import tempfile\n",
    "\n",
    "import matplotlib as mpl\n",
    "import matplotlib.pyplot as plt\n",
    "import numpy as np\n",
    "import pandas as pd\n",
    "import seaborn as sns\n",
    "\n",
    "import sklearn\n",
    "from sklearn.metrics import confusion_matrix\n",
    "from sklearn.model_selection import train_test_split\n",
    "from sklearn.preprocessing import StandardScaler\n",
    "\n",
    "from keras.utils import to_categorical\n",
    "from keras import utils as np_utils\n",
    "from sklearn.metrics import accuracy_score"
   ]
  },
  {
   "cell_type": "code",
   "execution_count": 2,
   "metadata": {},
   "outputs": [],
   "source": [
    "path = 'C:\\\\Users\\\\Medhaja\\\\Desktop\\\\Activity Recognition from Single Chest-Mounted Accelerometer\\\\'\n",
    "l = []\n",
    "for file in [f for f in os.listdir(path) if '.csv' in f]:\n",
    "    fname = file.split('_')[0]\n",
    "    l.append(pd.read_csv(path+file, header=None, engine='python'))#.iloc[[0, 2], :].assign(name=fname))\n",
    "    df = pd.concat(l)\n",
    "df = df.drop(df.columns[0], axis=1)"
   ]
  },
  {
   "cell_type": "code",
   "execution_count": 3,
   "metadata": {},
   "outputs": [
    {
     "name": "stdout",
     "output_type": "stream",
     "text": [
      "\n",
      "DataFrame Shape : (1926896, 4)\n",
      "\n",
      "Number of rows : 1926896\n",
      "\n",
      "Number of columns : 4\n"
     ]
    },
    {
     "data": {
      "text/plain": [
       "<matplotlib.axes._subplots.AxesSubplot at 0x2b89f6388e0>"
      ]
     },
     "execution_count": 3,
     "metadata": {},
     "output_type": "execute_result"
    },
    {
     "data": {
      "image/png": "[encoded data removed]",
      "text/plain": [
       "<Figure size 432x288 with 1 Axes>"
      ]
     },
     "metadata": {
      "needs_background": "light"
     },
     "output_type": "display_data"
    }
   ],
   "source": [
    "shape = df.shape\n",
    "print('\\nDataFrame Shape :', shape)\n",
    "print('\\nNumber of rows :', shape[0])\n",
    "print('\\nNumber of columns :', shape[1])\n",
    "df[4].value_counts().plot(kind='barh')"
   ]
  },
  {
   "cell_type": "code",
   "execution_count": 4,
   "metadata": {},
   "outputs": [
    {
     "data": {
      "text/plain": [
       "<matplotlib.axes._subplots.AxesSubplot at 0x2b89bf81d00>"
      ]
     },
     "execution_count": 4,
     "metadata": {},
     "output_type": "execute_result"
    },
    {
     "data": {
      "image/png": "[encoded data removed]",
      "text/plain": [
       "<Figure size 432x288 with 1 Axes>"
      ]
     },
     "metadata": {
      "needs_background": "light"
     },
     "output_type": "display_data"
    }
   ],
   "source": [
    "f = df [df[4]!=0] # Remove the rows with 0 as the catagory\n",
    "\n",
    "# make sure that 0th catagory isn't there\n",
    "f[4].value_counts().plot(kind='barh')"
   ]
  },
  {
   "cell_type": "markdown",
   "metadata": {},
   "source": [
    "# Combine 3 and 7 as one catagory and Combine 4 and 6 as one catagory"
   ]
  },
  {
   "cell_type": "code",
   "execution_count": 5,
   "metadata": {},
   "outputs": [
    {
     "name": "stderr",
     "output_type": "stream",
     "text": [
      "C:\\ProgramData\\Anaconda3\\lib\\site-packages\\pandas\\core\\generic.py:6746: SettingWithCopyWarning: \n",
      "A value is trying to be set on a copy of a slice from a DataFrame\n",
      "\n",
      "See the caveats in the documentation: https://pandas.pydata.org/pandas-docs/stable/user_guide/indexing.html#returning-a-view-versus-a-copy\n",
      "  self._update_inplace(new_data)\n"
     ]
    },
    {
     "data": {
      "image/png": "[encoded data removed]",
      "text/plain": [
       "<Figure size 432x288 with 1 Axes>"
      ]
     },
     "metadata": {
      "needs_background": "light"
     },
     "output_type": "display_data"
    }
   ],
   "source": [
    "f[4].replace([7], 3, inplace=True) \n",
    "f[4].replace([6],4, inplace=True)\n",
    "\n",
    "# Rename all the activities as its should start from 0th index not 1th index . eg : value -1\n",
    "f[4].replace([1], 0, inplace=True)\n",
    "f[4].replace([2], 1, inplace=True)\n",
    "f[4].replace([3], 2, inplace=True)\n",
    "f[4].replace([4], 3, inplace=True)\n",
    "f[4].replace([5], 4, inplace=True)\n",
    "f[4].value_counts().plot(kind='barh')\n",
    "\n",
    "# give the columbs name\n",
    "f.columns =['a', 'b', 'c', 'Class']"
   ]
  },
  {
   "cell_type": "code",
   "execution_count": 6,
   "metadata": {},
   "outputs": [
    {
     "name": "stdout",
     "output_type": "stream",
     "text": [
      "Training labels shape: (1538541,)\n",
      "Validation labels shape: (384636,)\n",
      "Test labels shape: (384636,)\n",
      "Training features shape: (1538541, 3)\n",
      "Validation features shape: (384636, 3)\n",
      "Test features shape: (384636, 3)\n"
     ]
    }
   ],
   "source": [
    "# Use a utility from sklearn to split and shuffle our dataset.\n",
    "train_df, test_df = train_test_split(f, test_size=0.2)\n",
    "train_df, val_df = train_test_split(f, test_size=0.2)\n",
    "\n",
    "# seperate the labels and data\n",
    "train_labels = np.array(train_df.pop('Class'))\n",
    "val_labels = np.array(val_df.pop('Class'))\n",
    "test_labels = np.array(test_df.pop('Class'))\n",
    "\n",
    "# convert to numpy\n",
    "train_features = np.array(train_df)\n",
    "val_features = np.array(val_df)\n",
    "test_features = np.array(test_df)\n",
    "\n",
    "# transformation \n",
    "scaler = StandardScaler()\n",
    "train_features = scaler.fit_transform(train_features)\n",
    "\n",
    "val_features = scaler.transform(val_features)\n",
    "test_features = scaler.transform(test_features)\n",
    "\n",
    "print('Training labels shape:', train_labels.shape)\n",
    "print('Validation labels shape:', val_labels.shape)\n",
    "print('Test labels shape:', test_labels.shape)\n",
    "\n",
    "print('Training features shape:', train_features.shape)\n",
    "print('Validation features shape:', val_features.shape)\n",
    "print('Test features shape:', test_features.shape)"
   ]
  },
  {
   "cell_type": "code",
   "execution_count": 7,
   "metadata": {},
   "outputs": [],
   "source": [
    "# Convert the labels to one hot vectors\n",
    "train_labels = to_categorical(train_labels)\n",
    "val_labels = to_categorical(val_labels)\n",
    "# test_labels = to_categorical(test_labels)\n",
    "\n",
    "# Define early stoping criterias\n",
    "early_stopping = tf.keras.callbacks.EarlyStopping(\n",
    "    monitor='val_categorical_accuracy', \n",
    "    verbose=1,\n",
    "    patience=10,\n",
    "    mode='max',\n",
    "    restore_best_weights=True)"
   ]
  },
  {
   "cell_type": "code",
   "execution_count": 8,
   "metadata": {},
   "outputs": [
    {
     "name": "stdout",
     "output_type": "stream",
     "text": [
      "Epoch 1/15\n",
      "48080/48080 [==============================] - 64s 1ms/step - loss: 0.7820 - categorical_accuracy: 0.7309 - val_loss: 0.7375 - val_categorical_accuracy: 0.7476\n",
      "Epoch 2/15\n",
      "48080/48080 [==============================] - 62s 1ms/step - loss: 0.7196 - categorical_accuracy: 0.7554 - val_loss: 0.7039 - val_categorical_accuracy: 0.7598\n",
      "Epoch 3/15\n",
      "48080/48080 [==============================] - 62s 1ms/step - loss: 0.7081 - categorical_accuracy: 0.7589 - val_loss: 0.6993 - val_categorical_accuracy: 0.7622\n",
      "Epoch 4/15\n",
      "48080/48080 [==============================] - 62s 1ms/step - loss: 0.7020 - categorical_accuracy: 0.7610 - val_loss: 0.7000 - val_categorical_accuracy: 0.7598\n",
      "Epoch 5/15\n",
      "48080/48080 [==============================] - 63s 1ms/step - loss: 0.6982 - categorical_accuracy: 0.7621 - val_loss: 0.6927 - val_categorical_accuracy: 0.7667\n",
      "Epoch 6/15\n",
      "48080/48080 [==============================] - 64s 1ms/step - loss: 0.6945 - categorical_accuracy: 0.7632 - val_loss: 0.6906 - val_categorical_accuracy: 0.7670\n",
      "Epoch 7/15\n",
      "48080/48080 [==============================] - 62s 1ms/step - loss: 0.6916 - categorical_accuracy: 0.7641 - val_loss: 0.6897 - val_categorical_accuracy: 0.7670\n",
      "Epoch 8/15\n",
      "48080/48080 [==============================] - 63s 1ms/step - loss: 0.6889 - categorical_accuracy: 0.7650 - val_loss: 0.6836 - val_categorical_accuracy: 0.7669\n",
      "Epoch 9/15\n",
      "48080/48080 [==============================] - 62s 1ms/step - loss: 0.6866 - categorical_accuracy: 0.7655 - val_loss: 0.6831 - val_categorical_accuracy: 0.7672\n",
      "Epoch 10/15\n",
      "48080/48080 [==============================] - 63s 1ms/step - loss: 0.6849 - categorical_accuracy: 0.7661 - val_loss: 0.6876 - val_categorical_accuracy: 0.7677\n",
      "Epoch 11/15\n",
      "48080/48080 [==============================] - 82s 2ms/step - loss: 0.6837 - categorical_accuracy: 0.7665 - val_loss: 0.6813 - val_categorical_accuracy: 0.7680\n",
      "Epoch 12/15\n",
      "48080/48080 [==============================] - 72s 1ms/step - loss: 0.6821 - categorical_accuracy: 0.7666 - val_loss: 0.6778 - val_categorical_accuracy: 0.7671\n",
      "Epoch 13/15\n",
      "48080/48080 [==============================] - 61s 1ms/step - loss: 0.6809 - categorical_accuracy: 0.7671 - val_loss: 0.6952 - val_categorical_accuracy: 0.7619\n",
      "Epoch 14/15\n",
      "48080/48080 [==============================] - 63s 1ms/step - loss: 0.6797 - categorical_accuracy: 0.7674 - val_loss: 0.6774 - val_categorical_accuracy: 0.7683\n",
      "Epoch 15/15\n",
      "48080/48080 [==============================] - 63s 1ms/step - loss: 0.6788 - categorical_accuracy: 0.7673 - val_loss: 0.6774 - val_categorical_accuracy: 0.7708\n"
     ]
    },
    {
     "data": {
      "text/plain": [
       "<tensorflow.python.keras.callbacks.History at 0x2b89a6e9cd0>"
      ]
     },
     "execution_count": 8,
     "metadata": {},
     "output_type": "execute_result"
    }
   ],
   "source": [
    "model = keras.Sequential()\n",
    "model.add(keras.layers.Dense(32, input_dim=3, activation='relu'))\n",
    "model.add(keras.layers.Dense(16, activation='relu'))\n",
    "model.add(keras.layers.Dense(5, activation='sigmoid'))\n",
    "model.compile(loss='CategoricalCrossentropy', optimizer =keras.optimizers.Adam(1e-3), metrics=[keras.metrics.CategoricalAccuracy()])\n",
    "model.fit(train_features, train_labels, epochs=15, callbacks=[early_stopping],\n",
    "    validation_data=(val_features, val_labels))"
   ]
  },
  {
   "cell_type": "code",
   "execution_count": 9,
   "metadata": {},
   "outputs": [],
   "source": [
    "# tl = to_categorical(test_labels)\n",
    "# _ = model.evaluate(test_features,tl)"
   ]
  },
  {
   "cell_type": "code",
   "execution_count": 10,
   "metadata": {},
   "outputs": [
    {
     "name": "stdout",
     "output_type": "stream",
     "text": [
      "WARNING:tensorflow:From <ipython-input-10-a686fae02571>:1: Sequential.predict_classes (from tensorflow.python.keras.engine.sequential) is deprecated and will be removed after 2021-01-01.\n",
      "Instructions for updating:\n",
      "Please use instead:* `np.argmax(model.predict(x), axis=-1)`,   if your model does multi-class classification   (e.g. if it uses a `softmax` last-layer activation).* `(model.predict(x) > 0.5).astype(\"int32\")`,   if your model does binary classification   (e.g. if it uses a `sigmoid` last-layer activation).\n"
     ]
    }
   ],
   "source": [
    "preds_classes = model.predict_classes(test_features)\n",
    "array = confusion_matrix(test_labels, preds_classes)"
   ]
  },
  {
   "cell_type": "code",
   "execution_count": 11,
   "metadata": {},
   "outputs": [
    {
     "data": {
      "text/plain": [
       "array([2, 0, 3, ..., 2, 2, 2], dtype=int64)"
      ]
     },
     "execution_count": 11,
     "metadata": {},
     "output_type": "execute_result"
    }
   ],
   "source": [
    "preds_classes"
   ]
  },
  {
   "cell_type": "code",
   "execution_count": 12,
   "metadata": {},
   "outputs": [
    {
     "data": {
      "text/plain": [
       "<matplotlib.axes._subplots.AxesSubplot at 0x2b89d98f2e0>"
      ]
     },
     "execution_count": 12,
     "metadata": {},
     "output_type": "execute_result"
    },
    {
     "data": {
      "image/png": "[encoded data removed]",
      "text/plain": [
       "<Figure size 720x504 with 2 Axes>"
      ]
     },
     "metadata": {
      "needs_background": "light"
     },
     "output_type": "display_data"
    }
   ],
   "source": [
    "import seaborn as sn\n",
    "df_cm = pd.DataFrame(array, range(5), range(5))\n",
    "plt.figure(figsize=(10,7))\n",
    "sn.set(font_scale=1.4) # for label size\n",
    "sn.heatmap(df_cm, annot=True, annot_kws={\"size\": 16}) # font size"
   ]
  },
  {
   "cell_type": "code",
   "execution_count": 13,
   "metadata": {},
   "outputs": [
    {
     "name": "stdout",
     "output_type": "stream",
     "text": [
      "Accuracy is  0.7692571678158051\n"
     ]
    }
   ],
   "source": [
    "acc = accuracy_score(test_labels, preds_classes)\n",
    "print(\"Accuracy is \",acc )"
   ]
  },
  {
   "cell_type": "code",
   "execution_count": null,
   "metadata": {},
   "outputs": [],
   "source": []
  },
  {
   "cell_type": "code",
   "execution_count": null,
   "metadata": {},
   "outputs": [],
   "source": []
  }
 ],
 "metadata": {
  "kernelspec": {
   "display_name": "Python 3",
   "language": "python",
   "name": "python3"
  },
  "language_info": {
   "codemirror_mode": {
    "name": "ipython",
    "version": 3
   },
   "file_extension": ".py",
   "mimetype": "text/x-python",
   "name": "python",
   "nbconvert_exporter": "python",
   "pygments_lexer": "ipython3",
   "version": "3.8.3"
  }
 },
 "nbformat": 4,
 "nbformat_minor": 4
}
