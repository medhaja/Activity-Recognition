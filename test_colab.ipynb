{
  "nbformat": 4,
  "nbformat_minor": 0,
  "metadata": {
    "colab": {
      "name": "test.ipynb",
      "provenance": [],
      "collapsed_sections": [],
      "authorship_tag": "ABX9TyMM9hqFt+9xz8svXoL8trs6",
      "include_colab_link": true
    },
    "kernelspec": {
      "name": "python3",
      "display_name": "Python 3"
    },
    "accelerator": "TPU"
  },
  "cells": [
    {
      "cell_type": "markdown",
      "metadata": {
        "id": "view-in-github",
        "colab_type": "text"
      },
      "source": [
        "<a href=\"https://colab.research.google.com/github/medhaja/Activity-Recognition/blob/master/test_colab.ipynb\" target=\"_parent\"><img src=\"https://colab.research.google.com/assets/colab-badge.svg\" alt=\"Open In Colab\"/></a>"
      ]
    },
    {
      "cell_type": "code",
      "metadata": {
        "colab": {
          "base_uri": "https://localhost:8080/"
        },
        "id": "2DsSZmrjVKs8",
        "outputId": "7829daa2-b0b2-4690-89c8-6683c4cbb100"
      },
      "source": [
        "!wget https://archive.ics.uci.edu/ml/machine-learning-databases/00287/Activity%20Recognition%20from%20Single%20Chest-Mounted%20Accelerometer.zip"
      ],
      "execution_count": 1,
      "outputs": [
        {
          "output_type": "stream",
          "text": [
            "--2021-01-10 19:03:57--  https://archive.ics.uci.edu/ml/machine-learning-databases/00287/Activity%20Recognition%20from%20Single%20Chest-Mounted%20Accelerometer.zip\n",
            "Resolving archive.ics.uci.edu (archive.ics.uci.edu)... 128.195.10.252\n",
            "Connecting to archive.ics.uci.edu (archive.ics.uci.edu)|128.195.10.252|:443... connected.\n",
            "HTTP request sent, awaiting response... 200 OK\n",
            "Length: 11256835 (11M) [application/x-httpd-php]\n",
            "Saving to: ‘Activity Recognition from Single Chest-Mounted Accelerometer.zip’\n",
            "\n",
            "Activity Recognitio 100%[===================>]  10.74M  18.7MB/s    in 0.6s    \n",
            "\n",
            "2021-01-10 19:03:58 (18.7 MB/s) - ‘Activity Recognition from Single Chest-Mounted Accelerometer.zip’ saved [11256835/11256835]\n",
            "\n"
          ],
          "name": "stdout"
        }
      ]
    },
    {
      "cell_type": "code",
      "metadata": {
        "colab": {
          "base_uri": "https://localhost:8080/"
        },
        "id": "6BfX6SurVxmX",
        "outputId": "e9fbda3d-064a-4657-8990-affc8ef9887e"
      },
      "source": [
        "!unzip \\*.zip"
      ],
      "execution_count": 2,
      "outputs": [
        {
          "output_type": "stream",
          "text": [
            "Archive:  Activity Recognition from Single Chest-Mounted Accelerometer.zip\n",
            "   creating: Activity Recognition from Single Chest-Mounted Accelerometer/\n",
            "  inflating: Activity Recognition from Single Chest-Mounted Accelerometer/.DS_Store  \n",
            "   creating: __MACOSX/\n",
            "   creating: __MACOSX/Activity Recognition from Single Chest-Mounted Accelerometer/\n",
            "  inflating: __MACOSX/Activity Recognition from Single Chest-Mounted Accelerometer/._.DS_Store  \n",
            "  inflating: Activity Recognition from Single Chest-Mounted Accelerometer/1.csv  \n",
            "  inflating: Activity Recognition from Single Chest-Mounted Accelerometer/10.csv  \n",
            "  inflating: Activity Recognition from Single Chest-Mounted Accelerometer/11.csv  \n",
            "  inflating: Activity Recognition from Single Chest-Mounted Accelerometer/12.csv  \n",
            "  inflating: Activity Recognition from Single Chest-Mounted Accelerometer/13.csv  \n",
            "  inflating: Activity Recognition from Single Chest-Mounted Accelerometer/14.csv  \n",
            "  inflating: Activity Recognition from Single Chest-Mounted Accelerometer/15.csv  \n",
            "  inflating: Activity Recognition from Single Chest-Mounted Accelerometer/2.csv  \n",
            "  inflating: Activity Recognition from Single Chest-Mounted Accelerometer/3.csv  \n",
            "  inflating: Activity Recognition from Single Chest-Mounted Accelerometer/4.csv  \n",
            "  inflating: Activity Recognition from Single Chest-Mounted Accelerometer/5.csv  \n",
            "  inflating: Activity Recognition from Single Chest-Mounted Accelerometer/6.csv  \n",
            "  inflating: Activity Recognition from Single Chest-Mounted Accelerometer/7.csv  \n",
            "  inflating: Activity Recognition from Single Chest-Mounted Accelerometer/8.csv  \n",
            "  inflating: Activity Recognition from Single Chest-Mounted Accelerometer/9.csv  \n",
            "  inflating: Activity Recognition from Single Chest-Mounted Accelerometer/README  \n",
            "  inflating: __MACOSX/Activity Recognition from Single Chest-Mounted Accelerometer/._README  \n"
          ],
          "name": "stdout"
        }
      ]
    },
    {
      "cell_type": "code",
      "metadata": {
        "id": "yK4HtsdaUFfb"
      },
      "source": [
        "import tensorflow as tf\r\n",
        "from tensorflow import keras\r\n",
        "\r\n",
        "import os\r\n",
        "import tempfile\r\n",
        "\r\n",
        "import matplotlib as mpl\r\n",
        "import matplotlib.pyplot as plt\r\n",
        "import numpy as np\r\n",
        "import pandas as pd\r\n",
        "import seaborn as sns\r\n",
        "\r\n",
        "import sklearn\r\n",
        "from sklearn.metrics import confusion_matrix\r\n",
        "from sklearn.model_selection import train_test_split\r\n",
        "from sklearn.preprocessing import StandardScaler\r\n",
        "\r\n",
        "from keras.utils import to_categorical\r\n",
        "from keras import utils as np_utils\r\n",
        "from sklearn.metrics import accuracy_score\r\n",
        "\r\n",
        "path = '//content//Activity Recognition from Single Chest-Mounted Accelerometer//'\r\n",
        "l = []\r\n",
        "for file in [f for f in os.listdir(path) if '.csv' in f]:\r\n",
        "    fname = file.split('_')[0]\r\n",
        "    l.append(pd.read_csv(path+file, header=None, engine='python'))#.iloc[[0, 2], :].assign(name=fname))\r\n",
        "    df = pd.concat(l)\r\n",
        "df = df.drop(df.columns[0], axis=1)"
      ],
      "execution_count": 3,
      "outputs": []
    },
    {
      "cell_type": "code",
      "metadata": {
        "id": "mJxovMY8UWCt",
        "colab": {
          "base_uri": "https://localhost:8080/",
          "height": 394
        },
        "outputId": "5086a6df-437d-45be-df93-31ec7101a430"
      },
      "source": [
        "shape = df.shape\r\n",
        "print('\\nDataFrame Shape :', shape)\r\n",
        "print('\\nNumber of rows :', shape[0])\r\n",
        "print('\\nNumber of columns :', shape[1])\r\n",
        "df[4].value_counts().plot(kind='barh')"
      ],
      "execution_count": 4,
      "outputs": [
        {
          "output_type": "stream",
          "text": [
            "\n",
            "DataFrame Shape : (1926896, 4)\n",
            "\n",
            "Number of rows : 1926896\n",
            "\n",
            "Number of columns : 4\n"
          ],
          "name": "stdout"
        },
        {
          "output_type": "execute_result",
          "data": {
            "text/plain": [
              "<matplotlib.axes._subplots.AxesSubplot at 0x7fa0e7971048>"
            ]
          },
          "metadata": {
            "tags": []
          },
          "execution_count": 4
        },
        {
          "output_type": "display_data",
          "data": {
            "image/png": "[encoded data removed]",
            "text/plain": [
              "<Figure size 432x288 with 1 Axes>"
            ]
          },
          "metadata": {
            "tags": [],
            "needs_background": "light"
          }
        }
      ]
    },
    {
      "cell_type": "code",
      "metadata": {
        "colab": {
          "base_uri": "https://localhost:8080/",
          "height": 283
        },
        "id": "FqPwjMUxqJiU",
        "outputId": "dd381646-a582-4bbb-f747-4619d062f113"
      },
      "source": [
        "f = df [df[4]!=0] # Remove the rows with 0 as the catagory\r\n",
        "\r\n",
        "# make sure that 0th catagory isn't there\r\n",
        "f[4].value_counts().plot(kind='barh')"
      ],
      "execution_count": 5,
      "outputs": [
        {
          "output_type": "execute_result",
          "data": {
            "text/plain": [
              "<matplotlib.axes._subplots.AxesSubplot at 0x7fa09863af28>"
            ]
          },
          "metadata": {
            "tags": []
          },
          "execution_count": 5
        },
        {
          "output_type": "display_data",
          "data": {
            "image/png": "[encoded data removed]",
            "text/plain": [
              "<Figure size 432x288 with 1 Axes>"
            ]
          },
          "metadata": {
            "tags": [],
            "needs_background": "light"
          }
        }
      ]
    },
    {
      "cell_type": "code",
      "metadata": {
        "colab": {
          "base_uri": "https://localhost:8080/",
          "height": 357
        },
        "id": "yUQZ67w4qU5b",
        "outputId": "deaf6b9c-e913-4874-ab40-36df97743fa0"
      },
      "source": [
        "f[4].replace([7], 3, inplace=True) \r\n",
        "f[4].replace([6],4, inplace=True)\r\n",
        "\r\n",
        "# Rename all the activities as its should start from 0th index not 1th index . eg : value -1\r\n",
        "f[4].replace([1], 0, inplace=True)\r\n",
        "f[4].replace([2], 1, inplace=True)\r\n",
        "f[4].replace([3], 2, inplace=True)\r\n",
        "f[4].replace([4], 3, inplace=True)\r\n",
        "f[4].replace([5], 4, inplace=True)\r\n",
        "f[4].value_counts().plot(kind='barh')\r\n",
        "\r\n",
        "# give the columbs name\r\n",
        "f.columns =['a', 'b', 'c', 'Class']"
      ],
      "execution_count": 6,
      "outputs": [
        {
          "output_type": "stream",
          "text": [
            "/usr/local/lib/python3.6/dist-packages/pandas/core/series.py:4582: SettingWithCopyWarning: \n",
            "A value is trying to be set on a copy of a slice from a DataFrame\n",
            "\n",
            "See the caveats in the documentation: https://pandas.pydata.org/pandas-docs/stable/user_guide/indexing.html#returning-a-view-versus-a-copy\n",
            "  method=method,\n"
          ],
          "name": "stderr"
        },
        {
          "output_type": "display_data",
          "data": {
            "image/png": "[encoded data removed]",
            "text/plain": [
              "<Figure size 432x288 with 1 Axes>"
            ]
          },
          "metadata": {
            "tags": [],
            "needs_background": "light"
          }
        }
      ]
    },
    {
      "cell_type": "code",
      "metadata": {
        "colab": {
          "base_uri": "https://localhost:8080/"
        },
        "id": "5UATGOZOqU0R",
        "outputId": "41c4ed56-1deb-4025-a95c-43d3ea8141e0"
      },
      "source": [
        "# Use a utility from sklearn to split and shuffle our dataset.\r\n",
        "train_df, test_df = train_test_split(f, test_size=0.2)\r\n",
        "train_df, val_df = train_test_split(f, test_size=0.2)\r\n",
        "\r\n",
        "# seperate the labels and data\r\n",
        "train_labels = np.array(train_df.pop('Class'))\r\n",
        "val_labels = np.array(val_df.pop('Class'))\r\n",
        "test_labels = np.array(test_df.pop('Class'))\r\n",
        "\r\n",
        "# convert to numpy\r\n",
        "train_features = np.array(train_df)\r\n",
        "val_features = np.array(val_df)\r\n",
        "test_features = np.array(test_df)\r\n",
        "\r\n",
        "# transformation \r\n",
        "scaler = StandardScaler()\r\n",
        "train_features = scaler.fit_transform(train_features)\r\n",
        "\r\n",
        "val_features = scaler.transform(val_features)\r\n",
        "test_features = scaler.transform(test_features)\r\n",
        "\r\n",
        "print('Training labels shape:', train_labels.shape)\r\n",
        "print('Validation labels shape:', val_labels.shape)\r\n",
        "print('Test labels shape:', test_labels.shape)\r\n",
        "\r\n",
        "print('Training features shape:', train_features.shape)\r\n",
        "print('Validation features shape:', val_features.shape)\r\n",
        "print('Test features shape:', test_features.shape)"
      ],
      "execution_count": 7,
      "outputs": [
        {
          "output_type": "stream",
          "text": [
            "Training labels shape: (1538541,)\n",
            "Validation labels shape: (384636,)\n",
            "Test labels shape: (384636,)\n",
            "Training features shape: (1538541, 3)\n",
            "Validation features shape: (384636, 3)\n",
            "Test features shape: (384636, 3)\n"
          ],
          "name": "stdout"
        }
      ]
    },
    {
      "cell_type": "code",
      "metadata": {
        "id": "eEbASM3jqUv8"
      },
      "source": [
        "# Convert the labels to one hot vectors\r\n",
        "train_labels = to_categorical(train_labels)\r\n",
        "val_labels = to_categorical(val_labels)\r\n",
        "# test_labels = to_categorical(test_labels)\r\n",
        "\r\n",
        "# Define early stoping criterias\r\n",
        "early_stopping = tf.keras.callbacks.EarlyStopping(\r\n",
        "    monitor='val_categorical_accuracy', \r\n",
        "    verbose=1,\r\n",
        "    patience=10,\r\n",
        "    mode='max',\r\n",
        "    restore_best_weights=True)"
      ],
      "execution_count": 8,
      "outputs": []
    },
    {
      "cell_type": "code",
      "metadata": {
        "colab": {
          "base_uri": "https://localhost:8080/"
        },
        "id": "FHduICtoqUrf",
        "outputId": "4113b07a-577c-45a2-80bd-82834aa09e20"
      },
      "source": [
        "model = keras.Sequential()\r\n",
        "model.add(keras.layers.Dense(32, input_dim=3, activation='relu'))\r\n",
        "model.add(keras.layers.Dense(16, activation='relu'))\r\n",
        "model.add(keras.layers.Dense(5, activation='sigmoid'))\r\n",
        "model.compile(loss='CategoricalCrossentropy', optimizer =keras.optimizers.Adam(1e-3), metrics=[keras.metrics.CategoricalAccuracy()])\r\n",
        "model.fit(train_features, train_labels, epochs=15, callbacks=[early_stopping],\r\n",
        "    validation_data=(val_features, val_labels))"
      ],
      "execution_count": 9,
      "outputs": [
        {
          "output_type": "stream",
          "text": [
            "Epoch 1/15\n",
            "48080/48080 [==============================] - 64s 1ms/step - loss: 0.8579 - categorical_accuracy: 0.6928 - val_loss: 0.7331 - val_categorical_accuracy: 0.7539\n",
            "Epoch 2/15\n",
            "48080/48080 [==============================] - 61s 1ms/step - loss: 0.7265 - categorical_accuracy: 0.7543 - val_loss: 0.7141 - val_categorical_accuracy: 0.7569\n",
            "Epoch 3/15\n",
            "48080/48080 [==============================] - 61s 1ms/step - loss: 0.7099 - categorical_accuracy: 0.7581 - val_loss: 0.6994 - val_categorical_accuracy: 0.7599\n",
            "Epoch 4/15\n",
            "48080/48080 [==============================] - 68s 1ms/step - loss: 0.7001 - categorical_accuracy: 0.7610 - val_loss: 0.6950 - val_categorical_accuracy: 0.7616\n",
            "Epoch 5/15\n",
            "48080/48080 [==============================] - 63s 1ms/step - loss: 0.6962 - categorical_accuracy: 0.7620 - val_loss: 0.6921 - val_categorical_accuracy: 0.7616\n",
            "Epoch 6/15\n",
            "48080/48080 [==============================] - 64s 1ms/step - loss: 0.6923 - categorical_accuracy: 0.7627 - val_loss: 0.6834 - val_categorical_accuracy: 0.7652\n",
            "Epoch 7/15\n",
            "48080/48080 [==============================] - 63s 1ms/step - loss: 0.6900 - categorical_accuracy: 0.7638 - val_loss: 0.6880 - val_categorical_accuracy: 0.7635\n",
            "Epoch 8/15\n",
            "48080/48080 [==============================] - 62s 1ms/step - loss: 0.6885 - categorical_accuracy: 0.7640 - val_loss: 0.6884 - val_categorical_accuracy: 0.7612\n",
            "Epoch 9/15\n",
            "48080/48080 [==============================] - 63s 1ms/step - loss: 0.6862 - categorical_accuracy: 0.7645 - val_loss: 0.6841 - val_categorical_accuracy: 0.7687\n",
            "Epoch 10/15\n",
            "48080/48080 [==============================] - 62s 1ms/step - loss: 0.6840 - categorical_accuracy: 0.7652 - val_loss: 0.6790 - val_categorical_accuracy: 0.7664\n",
            "Epoch 11/15\n",
            "48080/48080 [==============================] - 63s 1ms/step - loss: 0.6822 - categorical_accuracy: 0.7658 - val_loss: 0.6881 - val_categorical_accuracy: 0.7666\n",
            "Epoch 12/15\n",
            "48080/48080 [==============================] - 63s 1ms/step - loss: 0.6822 - categorical_accuracy: 0.7657 - val_loss: 0.6773 - val_categorical_accuracy: 0.7669\n",
            "Epoch 13/15\n",
            "48080/48080 [==============================] - 62s 1ms/step - loss: 0.6796 - categorical_accuracy: 0.7665 - val_loss: 0.6755 - val_categorical_accuracy: 0.7686\n",
            "Epoch 14/15\n",
            "48080/48080 [==============================] - 63s 1ms/step - loss: 0.6784 - categorical_accuracy: 0.7671 - val_loss: 0.6872 - val_categorical_accuracy: 0.7644\n",
            "Epoch 15/15\n",
            "48080/48080 [==============================] - 62s 1ms/step - loss: 0.6782 - categorical_accuracy: 0.7668 - val_loss: 0.6793 - val_categorical_accuracy: 0.7675\n"
          ],
          "name": "stdout"
        },
        {
          "output_type": "execute_result",
          "data": {
            "text/plain": [
              "<tensorflow.python.keras.callbacks.History at 0x7fa099badcc0>"
            ]
          },
          "metadata": {
            "tags": []
          },
          "execution_count": 9
        }
      ]
    },
    {
      "cell_type": "code",
      "metadata": {
        "colab": {
          "base_uri": "https://localhost:8080/"
        },
        "id": "yJbbpwn0qe4b",
        "outputId": "070364b7-6710-422b-8846-1142c5643fc9"
      },
      "source": [
        "preds_classes = model.predict_classes(test_features)\r\n",
        "array = confusion_matrix(test_labels,preds_classes)"
      ],
      "execution_count": 10,
      "outputs": [
        {
          "output_type": "stream",
          "text": [
            "/usr/local/lib/python3.6/dist-packages/tensorflow/python/keras/engine/sequential.py:450: UserWarning: `model.predict_classes()` is deprecated and will be removed after 2021-01-01. Please use instead:* `np.argmax(model.predict(x), axis=-1)`,   if your model does multi-class classification   (e.g. if it uses a `softmax` last-layer activation).* `(model.predict(x) > 0.5).astype(\"int32\")`,   if your model does binary classification   (e.g. if it uses a `sigmoid` last-layer activation).\n",
            "  warnings.warn('`model.predict_classes()` is deprecated and '\n"
          ],
          "name": "stderr"
        }
      ]
    },
    {
      "cell_type": "code",
      "metadata": {
        "colab": {
          "base_uri": "https://localhost:8080/",
          "height": 458
        },
        "id": "F7cLyNdYqe0S",
        "outputId": "e421df64-8224-40db-a2ef-bda142c137fc"
      },
      "source": [
        "import seaborn as sn\r\n",
        "df_cm = pd.DataFrame(array, range(5), range(5))\r\n",
        "plt.figure(figsize=(10,7))\r\n",
        "sn.set(font_scale=1.4) # for label size\r\n",
        "sn.heatmap(df_cm, annot=True, annot_kws={\"size\": 16}) # font size"
      ],
      "execution_count": 11,
      "outputs": [
        {
          "output_type": "execute_result",
          "data": {
            "text/plain": [
              "<matplotlib.axes._subplots.AxesSubplot at 0x7fa0992c3a58>"
            ]
          },
          "metadata": {
            "tags": []
          },
          "execution_count": 11
        },
        {
          "output_type": "display_data",
          "data": {
            "image/png": "[encoded data removed]",
            "text/plain": [
              "<Figure size 720x504 with 2 Axes>"
            ]
          },
          "metadata": {
            "tags": [],
            "needs_background": "light"
          }
        }
      ]
    },
    {
      "cell_type": "code",
      "metadata": {
        "colab": {
          "base_uri": "https://localhost:8080/"
        },
        "id": "kJVJnpEdqewG",
        "outputId": "cf2b150b-79f1-4c0f-cc97-5ac88685d9fc"
      },
      "source": [
        "acc = accuracy_score(test_labels, preds_classes)\r\n",
        "print(\"Accuracy is \",acc )"
      ],
      "execution_count": 12,
      "outputs": [
        {
          "output_type": "stream",
          "text": [
            "Accuracy is  0.767484062854231\n"
          ],
          "name": "stdout"
        }
      ]
    }
  ]
}